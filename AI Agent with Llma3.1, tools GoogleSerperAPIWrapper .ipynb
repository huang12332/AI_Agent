{
 "cells": [
  {
   "cell_type": "code",
   "execution_count": 4,
   "id": "8696c218-e3b3-44e3-8a24-7f21abe3aaac",
   "metadata": {},
   "outputs": [
    {
     "data": {
      "text/plain": [
       "ChatOllama(model='llama3.1', temperature=0.0)"
      ]
     },
     "execution_count": 4,
     "metadata": {},
     "output_type": "execute_result"
    }
   ],
   "source": [
    "from langchain_ollama import ChatOllama\n",
    "\n",
    "llm = ChatOllama(\n",
    "    model=\"llama3.1\",\n",
    "    temperature=0\n",
    ")\n",
    "llm"
   ]
  },
  {
   "cell_type": "markdown",
   "id": "55725aab-5a08-4e9f-a91c-d6f68ad9af84",
   "metadata": {},
   "source": [
    "###Invocation"
   ]
  },
  {
   "cell_type": "code",
   "execution_count": 9,
   "id": "4b380461-58ec-40ea-8c95-c30686936f52",
   "metadata": {},
   "outputs": [
    {
     "data": {
      "text/plain": [
       "AIMessage(content=\"Here's the translation:\\n\\n我喜欢编程。 (Wǒ xǐhuān biānxí.)\", response_metadata={'model': 'llama3.1', 'created_at': '2024-08-16T18:17:38.843924Z', 'message': {'role': 'assistant', 'content': ''}, 'done_reason': 'stop', 'done': True, 'total_duration': 16225877000, 'load_duration': 8415475300, 'prompt_eval_count': 37, 'prompt_eval_duration': 3489386000, 'eval_count': 24, 'eval_duration': 4282241000}, id='run-f380955e-a058-4229-a6bf-8fb6f960e61f-0', usage_metadata={'input_tokens': 37, 'output_tokens': 24, 'total_tokens': 61})"
      ]
     },
     "execution_count": 9,
     "metadata": {},
     "output_type": "execute_result"
    }
   ],
   "source": [
    "from langchain_core.messages import AIMessage\n",
    "\n",
    "messages = [\n",
    "    (\n",
    "        \"system\",\n",
    "        \"You are a helpful assistant that translates English to Chinese, Transalte the user sentence.\",\n",
    "    ),\n",
    "    (\"human\", \"I love programming.\"),\n",
    "]\n",
    "ai_msg = llm.invoke(messages)\n",
    "ai_msg"
   ]
  },
  {
   "cell_type": "code",
   "execution_count": 10,
   "id": "d2b4f98a-4593-4689-a40f-b7926be7127f",
   "metadata": {},
   "outputs": [
    {
     "name": "stdout",
     "output_type": "stream",
     "text": [
      "Here's the translation:\n",
      "\n",
      "我喜欢编程。 (Wǒ xǐhuān biānxí.)\n"
     ]
    }
   ],
   "source": [
    "print(ai_msg.content)"
   ]
  },
  {
   "cell_type": "markdown",
   "id": "5c4780ff-439a-4d04-aced-58cf84053ec6",
   "metadata": {},
   "source": [
    "### Chaining\n",
    "We can chain our model with a prompt template like so:"
   ]
  },
  {
   "cell_type": "code",
   "execution_count": 13,
   "id": "692ab0d1-27d2-4c15-ad38-40f2e647ef53",
   "metadata": {},
   "outputs": [
    {
     "data": {
      "text/plain": [
       "AIMessage(content='我爱编程！ (Wǒ ài biānxué!)', response_metadata={'model': 'llama3.1', 'created_at': '2024-08-16T18:34:23.4021336Z', 'message': {'role': 'assistant', 'content': ''}, 'done_reason': 'stop', 'done': True, 'total_duration': 13117679700, 'load_duration': 7305944800, 'prompt_eval_count': 29, 'prompt_eval_duration': 2932749000, 'eval_count': 17, 'eval_duration': 2804992000}, id='run-18ba6145-8cba-4e73-9086-e23512809be8-0', usage_metadata={'input_tokens': 29, 'output_tokens': 17, 'total_tokens': 46})"
      ]
     },
     "execution_count": 13,
     "metadata": {},
     "output_type": "execute_result"
    }
   ],
   "source": [
    "from langchain_core.prompts import ChatPromptTemplate\n",
    "\n",
    "prompt = ChatPromptTemplate(\n",
    "    [\n",
    "        (\n",
    "            \"system\",\n",
    "            \"You are a helpful assistant that translate {input_language} to {output_language}.\",\n",
    "        ),\n",
    "        (\"human\", \"{input}\",)\n",
    "    ]\n",
    ")\n",
    "\n",
    "chain = prompt | llm\n",
    "chain.invoke(\n",
    "    {\n",
    "        \"input_language\": \"English\",\n",
    "        \"output_language\": \"Chinese\",\n",
    "        \"input\": \"I Love programming\"\n",
    "    }\n",
    ")"
   ]
  },
  {
   "cell_type": "markdown",
   "id": "7e0e7543-b568-4386-a92d-4e612a522709",
   "metadata": {},
   "source": [
    "### Tool calling\n",
    "we can use tool calling with an LLM that has been fine-tuned for tool use:\n",
    "    ollama pull llama3-groq-tool-use\n",
    "we can just pass normal Python function directly as tools"
   ]
  },
  {
   "cell_type": "code",
   "execution_count": 20,
   "id": "b5053833-7ea9-4a1e-9ecb-272e566b4e70",
   "metadata": {},
   "outputs": [
    {
     "data": {
      "text/plain": [
       "[{'name': 'validate_user',\n",
       "  'args': {'addresses': '[{\"street\":\"123 Fake St\",\"city\":\"Boston\",\"state\":\"MA\"},{\"street\":\"234 Pretend Boulevard\",\"city\":\"Houston\",\"state\":\"TX\"}]',\n",
       "   'user_id': 123},\n",
       "  'id': 'ab3d27ce-9aef-46ff-ac77-04f064cd7f80',\n",
       "  'type': 'tool_call'}]"
      ]
     },
     "execution_count": 20,
     "metadata": {},
     "output_type": "execute_result"
    }
   ],
   "source": [
    "from typing import List\n",
    "\n",
    "from langchain_ollama import ChatOllama\n",
    "from typing_extensions import TypedDict\n",
    "\n",
    "def validate_user(user_id: int, addresses: List) -> bool:\n",
    "    \"\"\"\n",
    "        validate user using historical addresses.\n",
    "\n",
    "        Args:\n",
    "            user_id: (int) the user_id.\n",
    "            addresses: previous addresses.\n",
    "    \"\"\"\n",
    "    return True\n",
    "\n",
    "llm = ChatOllama(\n",
    "    # model=\"llama3-groq-tool-use\",\n",
    "    model=\"llama3.1\",\n",
    "    temperature=0,\n",
    ").bind_tools([validate_user])\n",
    "\n",
    "result = llm.invoke(\n",
    "    \"Could you validate user 123? They previously lived at\"\n",
    "    \"123 Fake St in Boston MA and 234 Pretend Boulevard in\"\n",
    "    \"Houston TX.\"\n",
    ")\n",
    "result.tool_calls"
   ]
  },
  {
   "cell_type": "code",
   "execution_count": 15,
   "id": "435b992e-5bb8-4a0c-be1a-90aada7a9678",
   "metadata": {},
   "outputs": [
    {
     "name": "stdout",
     "output_type": "stream",
     "text": [
      "{'searchParameters': {'q': 'Apple Inc.',\n",
      "                      'gl': 'us',\n",
      "                      'hl': 'en',\n",
      "                      'type': 'search',\n",
      "                      'num': 10,\n",
      "                      'engine': 'google'},\n",
      " 'knowledgeGraph': {'title': 'Apple',\n",
      "                    'type': 'Technology company',\n",
      "                    'website': 'http://www.apple.com/',\n",
      "                    'imageUrl': 'https://encrypted-tbn0.gstatic.com/images?q=tbn:ANd9GcQwGQRv5TjjkycpctY66mOg_e2-npacrmjAb6_jAWhzlzkFE3OTjxyzbA&s=0',\n",
      "                    'description': 'Apple Inc. is an American multinational '\n",
      "                                   'corporation and technology company '\n",
      "                                   'headquartered in Cupertino, California, in '\n",
      "                                   'Silicon Valley. It is best known for its '\n",
      "                                   'consumer electronics, software, and '\n",
      "                                   'services.',\n",
      "                    'descriptionSource': 'Wikipedia',\n",
      "                    'descriptionLink': 'https://en.wikipedia.org/wiki/Apple_Inc.',\n",
      "                    'attributes': {'Customer service': '1 (800) 275-2273',\n",
      "                                   'Founders': 'Steve Jobs, Steve Wozniak, and '\n",
      "                                               'Ronald Wayne',\n",
      "                                   'Headquarters': 'Cupertino, CA',\n",
      "                                   'COO': 'Jeff Williams',\n",
      "                                   'CEO': 'Tim Cook (Aug 24, 2011–)',\n",
      "                                   'Founded': 'April 1, 1976, Los Altos, CA'}},\n",
      " 'organic': [{'title': 'Apple',\n",
      "              'link': 'https://www.apple.com/',\n",
      "              'snippet': 'Discover the innovative world of Apple and shop '\n",
      "                         'everything iPhone, iPad, Apple Watch, Mac, and Apple '\n",
      "                         'TV, plus explore accessories, entertainment, ...',\n",
      "              'sitelinks': [{'title': 'Support',\n",
      "                             'link': 'https://support.apple.com/'},\n",
      "                            {'title': 'Store',\n",
      "                             'link': 'https://www.apple.com/store'},\n",
      "                            {'title': 'Careers at Apple',\n",
      "                             'link': 'https://www.apple.com/careers/us/'},\n",
      "                            {'title': 'iPhone',\n",
      "                             'link': 'https://www.apple.com/iphone/?section-banner-soip-suerte'},\n",
      "                            {'title': 'Mac',\n",
      "                             'link': 'https://www.apple.com/mac/'}],\n",
      "              'position': 1},\n",
      "             {'title': 'Apple Inc. - Wikipedia',\n",
      "              'link': 'https://en.wikipedia.org/wiki/Apple_Inc.',\n",
      "              'snippet': 'Apple Inc. is an American multinational corporation '\n",
      "                         'and technology company headquartered in Cupertino, '\n",
      "                         'California, in Silicon Valley.',\n",
      "              'sitelinks': [{'title': 'History',\n",
      "                             'link': 'https://en.wikipedia.org/wiki/History_of_Apple_Inc.'},\n",
      "                            {'title': 'List of Apple products',\n",
      "                             'link': 'https://en.wikipedia.org/wiki/List_of_Apple_products'},\n",
      "                            {'title': 'Litigation involving Apple Inc.',\n",
      "                             'link': 'https://en.wikipedia.org/wiki/Litigation_involving_Apple_Inc.'},\n",
      "                            {'title': 'Apple Park',\n",
      "                             'link': 'https://en.wikipedia.org/wiki/Apple_Park'}],\n",
      "              'position': 2},\n",
      "             {'title': 'Apple Inc - Company Profile and News - Bloomberg '\n",
      "                       'Markets',\n",
      "              'link': 'https://www.bloomberg.com/profile/company/AAPL:US',\n",
      "              'snippet': 'Apple Inc. Apple Inc. designs, manufactures, and '\n",
      "                         'markets smartphones, personal computers, tablets, '\n",
      "                         'wearables and accessories, and sells a variety of '\n",
      "                         'related ...',\n",
      "              'position': 3},\n",
      "             {'title': 'Apple Inc. (AAPL) Company Profile & Facts - Yahoo '\n",
      "                       'Finance',\n",
      "              'link': 'https://finance.yahoo.com/quote/AAPL/profile/',\n",
      "              'snippet': '408 996 1010 https://www.apple.com. Sector: '\n",
      "                         'Technology. Industry: Consumer Electronics. Full '\n",
      "                         'Time Employees: 161,000. Description. Apple Inc. '\n",
      "                         'designs ...',\n",
      "              'position': 4},\n",
      "             {'title': 'Apple Inc. | History, Products, Headquarters, & Facts '\n",
      "                       '- Britannica',\n",
      "              'link': 'https://www.britannica.com/money/Apple-Inc',\n",
      "              'snippet': 'American manufacturer of personal computers, '\n",
      "                         'smartphones, and tablet computers. Apple was the '\n",
      "                         'first successful personal computer company and ...',\n",
      "              'date': '7 days ago',\n",
      "              'position': 5},\n",
      "             {'title': 'Apple Inc. Stock Quote (U.S.: Nasdaq) - AAPL - '\n",
      "                       'MarketWatch',\n",
      "              'link': 'https://www.marketwatch.com/investing/stock/aapl',\n",
      "              'snippet': 'Apple, Inc. engages in the design, manufacture, and '\n",
      "                         'sale of smartphones, personal computers, tablets, '\n",
      "                         'wearables and accessories, and other varieties of '\n",
      "                         'related ...',\n",
      "              'position': 6},\n",
      "             {'title': 'Apple | AAPL Stock Price, Company Overview & News - '\n",
      "                       'Forbes',\n",
      "              'link': 'https://www.forbes.com/companies/apple/',\n",
      "              'snippet': 'Apple, Inc. engages in the design, manufacture, and '\n",
      "                         'sale of smartphones, personal computers, tablets, '\n",
      "                         'wearables and accessories, and other variety of ...',\n",
      "              'position': 7}],\n",
      " 'peopleAlsoAsk': [{'question': 'What is Apple Inc stand for?',\n",
      "                    'snippet': 'It was incorporated as Apple Computer, Inc. in '\n",
      "                               'January 1977, and sales of its computers, '\n",
      "                               'including the Apple II , saw significant '\n",
      "                               'momentum and revenue growth for the company. '\n",
      "                               '\"Inc.\" is the abbreviation for incorporated. A '\n",
      "                               'corporation is a separate legal entity from '\n",
      "                               'the person or people forming it.',\n",
      "                    'title': \"What does the 'Inc.' in Apple Inc. mean? - Quora\",\n",
      "                    'link': 'https://www.quora.com/What-does-the-Inc-in-Apple-Inc-mean'},\n",
      "                   {'question': 'Who owns Apple Inc.?',\n",
      "                    'snippet': 'Apple (AAPL) Ownership Overview The ownership '\n",
      "                               'structure of Apple (AAPL) stock is a mix of '\n",
      "                               'institutional, retail and individual '\n",
      "                               'investors. Approximately 48.15% of the '\n",
      "                               \"company's stock is owned by Institutional \"\n",
      "                               'Investors, 0.11% is owned by Insiders and '\n",
      "                               '51.74% is owned by Public Companies and '\n",
      "                               'Individual Investors.',\n",
      "                    'title': 'Who owns Apple? AAPL Stock Ownership - '\n",
      "                             'TipRanks.com',\n",
      "                    'link': 'https://www.tipranks.com/stocks/aapl/ownership'},\n",
      "                   {'question': 'Why did Apple change to Apple Inc?',\n",
      "                    'snippet': 'During his keynote speech at the Macworld Expo '\n",
      "                               'on January 9, 2007, Jobs announced the '\n",
      "                               'renaming of Apple Computer, Inc. to Apple '\n",
      "                               'Inc., because the company had broadened its '\n",
      "                               'focus from computers to consumer electronics. '\n",
      "                               'This event also saw the announcement of the '\n",
      "                               'iPhone and the Apple TV.',\n",
      "                    'title': 'Apple Inc. - Wikipedia',\n",
      "                    'link': 'https://en.wikipedia.org/wiki/Apple_Inc.'},\n",
      "                   {'question': 'Why Apple Inc is called Apple?',\n",
      "                    'snippet': 'But in reality, Steve Jobs named the company '\n",
      "                               'Apple because he liked the fruit. Steve Jobs '\n",
      "                               'followed a fruitarian diet and suggested the '\n",
      "                               'name Apple to Wozniak after Jobs visited an '\n",
      "                               'apple orchard.',\n",
      "                    'title': 'The Apple Logo: History, Meaning, Design '\n",
      "                             'Influences, and Evolution',\n",
      "                    'link': 'https://www.crowdspring.com/blog/apple-logo/'}],\n",
      " 'relatedSearches': [{'query': 'Apple iPhone 12'},\n",
      "                     {'query': 'Apple Inc full form'},\n",
      "                     {'query': 'Apple company history'},\n",
      "                     {'query': 'Apple company owner'},\n",
      "                     {'query': 'Apple us'},\n",
      "                     {'query': 'Apple Store'},\n",
      "                     {'query': 'Apple Inc careers'},\n",
      "                     {'query': 'Apple Inc website'},\n",
      "                     {'query': 'Apple Inc industry'}]}\n"
     ]
    }
   ],
   "source": [
    "from langchain_community.utilities import GoogleSerperAPIWrapper\n",
    "import pprint\n",
    "os.environ[\"SERPER_API_KEY\"] = \"b9bfe3246108bfd67d0673e18da06c973e1d84c1\"\n",
    "search = GoogleSerperAPIWrapper()\n",
    "results = search.results(\"Apple Inc.\")\n",
    "pprint.pp(results)"
   ]
  },
  {
   "cell_type": "code",
   "execution_count": 20,
   "id": "e3d118ba-0b35-45f5-bb20-d6a3f209b4a0",
   "metadata": {},
   "outputs": [],
   "source": [
    "from langchain_core.tools import tool, Tool\n",
    "from langchain_community.utilities import GoogleSerperAPIWrapper\n",
    "\n",
    "import os\n",
    "\n",
    "\n",
    "# Set the Serper API key\n",
    "os.environ[\"SERPER_API_KEY\"] = \"b9bfe3246108bfd67d0673e18da06c973e1d84c1\"\n",
    "\n",
    "@tool\n",
    "def google_serper_search(query: str):\n",
    "    \"\"\"\n",
    "    Google Serper 搜索引擎：输入一个字符串问题， 返回字符串结果\n",
    "    \"\"\"\n",
    "    # Initialize the Google Serper API Wrapper\n",
    "    search = GoogleSerperAPIWrapper()    \n",
    "\n",
    "    # Initialize the language model\n",
    "    # llm = ChatOllama(\n",
    "    #     model=\"llama3.1\",\n",
    "    #     temperature=0,\n",
    "    # )\n",
    "\n",
    "    # # memory=SqliteSaver.from_conn_string(\":memory:\")\n",
    "\n",
    "    # # Define the search tool\n",
    "    # tools = [\n",
    "    #     Tool(\n",
    "    #         name=\"Intermediate Answer\",\n",
    "    #         func=search.run,\n",
    "    #         description=\"Useful for when you need to ask with search\",\n",
    "    #     )\n",
    "    # ]\n",
    "    # self_ask_with_search = initialize_agent(\n",
    "    #     tools, llm, agent=AgentType.SELF_ASK_WITH_SEARCH, verbose=True\n",
    "    # )\n",
    "\n",
    "    results = search.results(query)\n",
    "    print(results)\n",
    "    return results\n",
    "\n",
    " "
   ]
  },
  {
   "cell_type": "code",
   "execution_count": 21,
   "id": "1a03ef12-becf-4ed4-9c4b-8b8dbb2e94f8",
   "metadata": {},
   "outputs": [
    {
     "name": "stdout",
     "output_type": "stream",
     "text": [
      "{'searchParameters': {'q': '巴黎奥运会奖牌信息？', 'gl': 'us', 'hl': 'en', 'type': 'search', 'num': 10, 'engine': 'google'}, 'organic': [{'title': '奖牌榜- 2024年巴黎奥运会 - Olympic Games', 'link': 'https://olympics.com/zh/paris-2024/medals', 'snippet': '2024年巴黎奥运会（7月26日至8月11日）官方奖牌榜。了解哪些运动员赢得奖牌、打破纪录。', 'date': 'Aug 11, 2024', 'attributes': {'Missing': '信息？ | Show results with:信息？'}, 'position': 1}, {'title': '2024年巴黎奥运会：中国代表团奖牌得主汇总 - Olympics', 'link': 'https://olympics.com/zh/news/paris-2024-team-china-medalists-overview', 'snippet': '截止至2024年8月11日，中国代表团在2024年巴黎奥运会上已经斩获了40金27银24铜合计91枚奖牌。 最后更新日期：2024年8月11日北京时间20:30.', 'date': 'Aug 11, 2024', 'position': 2}, {'title': '中国、英国、法国和澳大利亚将领跑2024 年巴黎奥运会奖牌榜| 尼尔森', 'link': 'https://www.nielsen.com/zh/news-center/2024/virtual-medal-table-forecast/', 'snippet': '获得奖牌最多的五个国家 (2024 年巴黎预测：112枚奖牌，2020 年东京：113 枚）。 美国有望再次在巴黎夏季奥运会虚拟奖牌榜上名列前茅。 目前Gracenote 预测的112 枚奖牌与 ...', 'position': 3}, {'title': '2024年巴黎奥运会跳水：比赛结果、获奖选手和奖牌榜一览 - Olympics', 'link': 'https://olympics.com/zh/news/diving-at-paris-2024-all-results-medals-complete-list', 'snippet': '通过本文了解中国跳水队在巴黎奥运会上的表现，包括所有比赛结果、奖牌得主和奖牌榜。', 'date': 'Aug 8, 2024', 'position': 4}, {'title': '2024年巴黎奥运会：里程碑纪录、数据和事实 - Olympic Games', 'link': 'https://olympics.com/zh/news/records-stats-facts-of-historic-paris-2024', 'snippet': '非洲运动员在2024年巴黎奥运会上也获得了许多突破历史的奖牌，艾哈迈德·埃尔根迪在现代五项比赛中为埃及赢得了首枚金牌，穆罕默德·哈利勒·詹杜比创造了 ...', 'date': '6 days ago', 'position': 5}, {'title': '巴黎奥运2024：奖牌榜上哪个国家或地区领先？ - BBC News 中文', 'link': 'https://www.bbc.com/zhongwen/simp/world-69210979', 'snippet': '2024年夏季奥运会7月26日在法国巴黎揭幕，来自全球200多个国家和的运动健儿将竞逐32大项体育竞赛合共329面奖牌，而首面奖牌将于7月27日诞生。', 'date': 'Jul 25, 2024', 'position': 6}, {'title': '263金！中国体育代表团征战夏季奥运会奖牌数据全集_2024巴黎奥运会', 'link': 'http://sports.news.cn/20240720/7dc05a945a44410284f9114db5fe0c71/c.html', 'snippet': '至于项目分布，数据表明，中国在33个夏季奥运会项目中获得过奥运奖牌，夺金最多的前十个项目分别是跳水（47金）、举重（38金）、乒乓球（32金）、体操（29 ...', 'date': 'Jul 20, 2024', 'position': 7}, {'title': '2024年巴黎奥运会奖牌 - Olympics', 'link': 'https://olympics.com/zh/paris-2024/the-games/the-brand/medals-design', 'snippet': '对于运动员而言，赢得一枚奥运奖牌可以改变一生，这是每个人的梦想。因此，运动员参与2024年巴黎奥运会奖牌的设计过程也就不足为奇了。由马丁·弗卡德领导的巴黎2024运动员 ...', 'attributes': {'Missing': '信息？ | Show results with:信息？'}, 'position': 8}, {'title': '巴黎奥运会| 263金！中国体育代表团征战夏季奥运会奖牌数据全集', 'link': 'http://cn.chinadaily.com.cn/a/202407/21/WS669c533aa3107cd55d26bd54.html', 'snippet': '至于项目分布，数据表明，中国在33个夏季奥运会项目中获得过奥运奖牌，夺金最多的前十个项目分别是跳水（47金）、举重（38金）、乒乓球（32金）、体操（29 ...', 'position': 9}, {'title': '巴黎奥运会奖牌榜（8月1日） | NHK WORLD-JAPAN News', 'link': 'https://www3.nhk.or.jp/nhkworld/zh/news/k10014533661000/', 'snippet': '在当天的奖牌榜上，第一名是美国队，获得9枚金牌、15枚银牌、13枚铜牌共37枚奖牌。 第二名是法国队，获得8枚金牌、11枚银牌、8枚铜牌，共27枚奖牌。 排名 ...', 'date': 'Aug 1, 2024', 'position': 10}], 'peopleAlsoAsk': [{'question': '2024年的奥运会是在哪一个国家举办？', 'snippet': '巴黎在法国国家体育场举行一场群星云集的日落秀，为两个半星期的非凡奥林匹克体育和情感盛会画上句号，并将夏季奥运会的举办权交给下一座城市：2028年的洛杉矶。 洛杉矶奥运要想超越巴黎可能是不可能的任务。 法国首都在100年来首次为奥运会充分利用了城市景观。', 'title': '巴黎为2024年奥运会举行一场群星秀 - 美国之音', 'link': 'https://www.voachinese.com/a/olympic-closes-vs-star-show-20240811/7738398.html'}, {'question': '巴黎奥运会吉祥物是什么？', 'snippet': '了解吉祥物 弗里热（Phryges）是巴黎2024 年奥运会和残奥会的官方吉祥物。 它们以传统的小弗里吉亚帽为原型，这是法国的象征。 奥运会组织者表示，选择这个名字和设计是为了象征自由，并代表法兰西共和国的寓言人物。', 'title': '2024 年巴黎奥运会：赛事元素——冲浪、霹雳舞、吉祥物、埃菲尔铁塔 ...', 'link': 'https://chinese.aljazeera.net/sport/2024/7/19/2024%E5%B9%B4%E5%B7%B4%E9%BB%8E%E5%A5%A5%E8%BF%90%E4%BC%9A%E8%B5%9B%E4%BA%8B%E5%85%83%E7%B4%A0'}], 'relatedSearches': [{'query': '巴黎奥运会奖牌设计'}, {'query': '巴黎奥运会奖牌榜'}, {'query': '巴黎奥运会排行榜'}, {'query': '巴黎奥运会奖牌材质'}, {'query': '巴黎奥运会金牌榜预测'}, {'query': '金牌榜2024'}, {'query': '巴黎奥运会官网'}, {'query': '巴黎奥运会奖品海报'}]}\n"
     ]
    },
    {
     "data": {
      "text/plain": [
       "{'searchParameters': {'q': '巴黎奥运会奖牌信息？',\n",
       "  'gl': 'us',\n",
       "  'hl': 'en',\n",
       "  'type': 'search',\n",
       "  'num': 10,\n",
       "  'engine': 'google'},\n",
       " 'organic': [{'title': '奖牌榜- 2024年巴黎奥运会 - Olympic Games',\n",
       "   'link': 'https://olympics.com/zh/paris-2024/medals',\n",
       "   'snippet': '2024年巴黎奥运会（7月26日至8月11日）官方奖牌榜。了解哪些运动员赢得奖牌、打破纪录。',\n",
       "   'date': 'Aug 11, 2024',\n",
       "   'attributes': {'Missing': '信息？ | Show results with:信息？'},\n",
       "   'position': 1},\n",
       "  {'title': '2024年巴黎奥运会：中国代表团奖牌得主汇总 - Olympics',\n",
       "   'link': 'https://olympics.com/zh/news/paris-2024-team-china-medalists-overview',\n",
       "   'snippet': '截止至2024年8月11日，中国代表团在2024年巴黎奥运会上已经斩获了40金27银24铜合计91枚奖牌。 最后更新日期：2024年8月11日北京时间20:30.',\n",
       "   'date': 'Aug 11, 2024',\n",
       "   'position': 2},\n",
       "  {'title': '中国、英国、法国和澳大利亚将领跑2024 年巴黎奥运会奖牌榜| 尼尔森',\n",
       "   'link': 'https://www.nielsen.com/zh/news-center/2024/virtual-medal-table-forecast/',\n",
       "   'snippet': '获得奖牌最多的五个国家 (2024 年巴黎预测：112枚奖牌，2020 年东京：113 枚）。 美国有望再次在巴黎夏季奥运会虚拟奖牌榜上名列前茅。 目前Gracenote 预测的112 枚奖牌与 ...',\n",
       "   'position': 3},\n",
       "  {'title': '2024年巴黎奥运会跳水：比赛结果、获奖选手和奖牌榜一览 - Olympics',\n",
       "   'link': 'https://olympics.com/zh/news/diving-at-paris-2024-all-results-medals-complete-list',\n",
       "   'snippet': '通过本文了解中国跳水队在巴黎奥运会上的表现，包括所有比赛结果、奖牌得主和奖牌榜。',\n",
       "   'date': 'Aug 8, 2024',\n",
       "   'position': 4},\n",
       "  {'title': '2024年巴黎奥运会：里程碑纪录、数据和事实 - Olympic Games',\n",
       "   'link': 'https://olympics.com/zh/news/records-stats-facts-of-historic-paris-2024',\n",
       "   'snippet': '非洲运动员在2024年巴黎奥运会上也获得了许多突破历史的奖牌，艾哈迈德·埃尔根迪在现代五项比赛中为埃及赢得了首枚金牌，穆罕默德·哈利勒·詹杜比创造了 ...',\n",
       "   'date': '6 days ago',\n",
       "   'position': 5},\n",
       "  {'title': '巴黎奥运2024：奖牌榜上哪个国家或地区领先？ - BBC News 中文',\n",
       "   'link': 'https://www.bbc.com/zhongwen/simp/world-69210979',\n",
       "   'snippet': '2024年夏季奥运会7月26日在法国巴黎揭幕，来自全球200多个国家和的运动健儿将竞逐32大项体育竞赛合共329面奖牌，而首面奖牌将于7月27日诞生。',\n",
       "   'date': 'Jul 25, 2024',\n",
       "   'position': 6},\n",
       "  {'title': '263金！中国体育代表团征战夏季奥运会奖牌数据全集_2024巴黎奥运会',\n",
       "   'link': 'http://sports.news.cn/20240720/7dc05a945a44410284f9114db5fe0c71/c.html',\n",
       "   'snippet': '至于项目分布，数据表明，中国在33个夏季奥运会项目中获得过奥运奖牌，夺金最多的前十个项目分别是跳水（47金）、举重（38金）、乒乓球（32金）、体操（29 ...',\n",
       "   'date': 'Jul 20, 2024',\n",
       "   'position': 7},\n",
       "  {'title': '2024年巴黎奥运会奖牌 - Olympics',\n",
       "   'link': 'https://olympics.com/zh/paris-2024/the-games/the-brand/medals-design',\n",
       "   'snippet': '对于运动员而言，赢得一枚奥运奖牌可以改变一生，这是每个人的梦想。因此，运动员参与2024年巴黎奥运会奖牌的设计过程也就不足为奇了。由马丁·弗卡德领导的巴黎2024运动员 ...',\n",
       "   'attributes': {'Missing': '信息？ | Show results with:信息？'},\n",
       "   'position': 8},\n",
       "  {'title': '巴黎奥运会| 263金！中国体育代表团征战夏季奥运会奖牌数据全集',\n",
       "   'link': 'http://cn.chinadaily.com.cn/a/202407/21/WS669c533aa3107cd55d26bd54.html',\n",
       "   'snippet': '至于项目分布，数据表明，中国在33个夏季奥运会项目中获得过奥运奖牌，夺金最多的前十个项目分别是跳水（47金）、举重（38金）、乒乓球（32金）、体操（29 ...',\n",
       "   'position': 9},\n",
       "  {'title': '巴黎奥运会奖牌榜（8月1日） | NHK WORLD-JAPAN News',\n",
       "   'link': 'https://www3.nhk.or.jp/nhkworld/zh/news/k10014533661000/',\n",
       "   'snippet': '在当天的奖牌榜上，第一名是美国队，获得9枚金牌、15枚银牌、13枚铜牌共37枚奖牌。 第二名是法国队，获得8枚金牌、11枚银牌、8枚铜牌，共27枚奖牌。 排名 ...',\n",
       "   'date': 'Aug 1, 2024',\n",
       "   'position': 10}],\n",
       " 'peopleAlsoAsk': [{'question': '2024年的奥运会是在哪一个国家举办？',\n",
       "   'snippet': '巴黎在法国国家体育场举行一场群星云集的日落秀，为两个半星期的非凡奥林匹克体育和情感盛会画上句号，并将夏季奥运会的举办权交给下一座城市：2028年的洛杉矶。 洛杉矶奥运要想超越巴黎可能是不可能的任务。 法国首都在100年来首次为奥运会充分利用了城市景观。',\n",
       "   'title': '巴黎为2024年奥运会举行一场群星秀 - 美国之音',\n",
       "   'link': 'https://www.voachinese.com/a/olympic-closes-vs-star-show-20240811/7738398.html'},\n",
       "  {'question': '巴黎奥运会吉祥物是什么？',\n",
       "   'snippet': '了解吉祥物 弗里热（Phryges）是巴黎2024 年奥运会和残奥会的官方吉祥物。 它们以传统的小弗里吉亚帽为原型，这是法国的象征。 奥运会组织者表示，选择这个名字和设计是为了象征自由，并代表法兰西共和国的寓言人物。',\n",
       "   'title': '2024 年巴黎奥运会：赛事元素——冲浪、霹雳舞、吉祥物、埃菲尔铁塔 ...',\n",
       "   'link': 'https://chinese.aljazeera.net/sport/2024/7/19/2024%E5%B9%B4%E5%B7%B4%E9%BB%8E%E5%A5%A5%E8%BF%90%E4%BC%9A%E8%B5%9B%E4%BA%8B%E5%85%83%E7%B4%A0'}],\n",
       " 'relatedSearches': [{'query': '巴黎奥运会奖牌设计'},\n",
       "  {'query': '巴黎奥运会奖牌榜'},\n",
       "  {'query': '巴黎奥运会排行榜'},\n",
       "  {'query': '巴黎奥运会奖牌材质'},\n",
       "  {'query': '巴黎奥运会金牌榜预测'},\n",
       "  {'query': '金牌榜2024'},\n",
       "  {'query': '巴黎奥运会官网'},\n",
       "  {'query': '巴黎奥运会奖品海报'}]}"
      ]
     },
     "execution_count": 21,
     "metadata": {},
     "output_type": "execute_result"
    }
   ],
   "source": [
    "google_serper_search(\"巴黎奥运会奖牌信息？\")"
   ]
  },
  {
   "cell_type": "code",
   "execution_count": 60,
   "id": "fe7807bf-e6c3-4b26-ad63-0500da57f6e5",
   "metadata": {},
   "outputs": [
    {
     "name": "stdout",
     "output_type": "stream",
     "text": [
      "{'agent': {'messages': [AIMessage(content='', response_metadata={'model': 'llama3.1', 'created_at': '2024-08-20T15:23:19.2954549Z', 'message': {'role': 'assistant', 'content': '', 'tool_calls': [{'function': {'name': 'google_serper_search', 'arguments': {'query': 'population of Canada'}}}]}, 'done_reason': 'stop', 'done': True, 'total_duration': 18954156600, 'load_duration': 17366200, 'prompt_eval_count': 163, 'prompt_eval_duration': 15345506000, 'eval_count': 21, 'eval_duration': 3589874000}, id='run-1bfac2f6-1c97-4817-a582-cb40950132ee-0', tool_calls=[{'name': 'google_serper_search', 'args': {'query': 'population of Canada'}, 'id': '3424594e-39e9-49b5-92bc-286f888c3087', 'type': 'tool_call'}], usage_metadata={'input_tokens': 163, 'output_tokens': 21, 'total_tokens': 184})]}}\n",
      "------\n",
      "{'searchParameters': {'q': 'population of Canada', 'gl': 'us', 'hl': 'en', 'type': 'search', 'num': 10, 'engine': 'google'}, 'answerBox': {'title': 'Canada / Population', 'answer': '38.93 million (2022)', 'source': 'World Bank', 'sourceLink': 'http://datatopics.worldbank.org/world-development-indicators'}, 'organic': [{'title': 'Canada Population (2024) - Worldometer', 'link': 'https://www.worldometers.info/world-population/canada-population/', 'snippet': \"The current population of Canada is 39,793,773 as of Monday, August 19, 2024, based on Worldometer's elaboration of the latest United Nations data1. Canada 2024 ...\", 'position': 1}, {'title': \"Canada's population clock (real-time model)\", 'link': 'https://www150.statcan.gc.ca/n1/pub/71-607-x/71-607-x2018005-eng.htm', 'snippet': 'This population clock models in real time changes to the size of the Canadian population and the provinces and territories. However, population ...', 'date': 'Jun 19, 2024', 'position': 2}, {'title': 'Population of Canada - Wikipedia', 'link': 'https://en.wikipedia.org/wiki/Population_of_Canada', 'snippet': \"Canada ranks 36th by population among countries of the world, comprising about 0.5% of the world's total, with more than 40 million Canadians as of 2024.\", 'sitelinks': [{'title': 'Historical population overview', 'link': 'https://en.wikipedia.org/wiki/Population_of_Canada#Historical_population_overview'}, {'title': 'Components of population...', 'link': 'https://en.wikipedia.org/wiki/Population_of_Canada#Components_of_population_growth'}, {'title': 'Population by years', 'link': 'https://en.wikipedia.org/wiki/Population_of_Canada#Population_by_years'}], 'position': 3}, {'title': 'Population and demography statistics', 'link': 'https://www.statcan.gc.ca/en/subjects-start/population_and_demography', 'snippet': \"Selected geographical area: ~ ' ' ~ Canada ~ ''; ?> ; Quarterly population estimate · 41,012,563. 0.6% ; Proportion of people aged 0 to 14 years ...\", 'date': 'Jun 24, 2024', 'sitelinks': [{'title': \"Canada's population clock\", 'link': 'https://www150.statcan.gc.ca/n1/pub/71-607-x/71-607-x2018005-eng.htm'}, {'title': \"Canada's population reaches\", 'link': 'https://www.statcan.gc.ca/en/subjects-start/population_and_demography/40-million'}, {'title': 'Interactive dashboard', 'link': 'https://www150.statcan.gc.ca/n1/pub/71-607-x/71-607-x2019036-eng.htm'}], 'position': 4}, {'title': 'Canada: total population 2019- 2029 - Statista', 'link': 'https://www.statista.com/statistics/263742/total-population-in-canada/', 'snippet': 'In 2022, the total population in Canada amounted to about 38.87 million inhabitants.', 'date': 'Jul 4, 2024', 'position': 5}, {'title': 'Population, total - Canada - World Bank Open Data', 'link': 'https://data.worldbank.org/indicator/SP.POP.TOTL?locations=CA', 'snippet': 'Population, total - Canada from The World Bank: Data.', 'position': 6}, {'title': 'Demographics of Canada - Wikipedia', 'link': 'https://en.wikipedia.org/wiki/Demographics_of_Canada', 'snippet': \"It is estimated that Canada's population surpassed 40 million in 2023 and 41 million in 2024. Between 1990 and 2008, the population increased by 5.6 million, ...\", 'sitelinks': [{'title': 'Statistics Canada', 'link': 'https://en.wikipedia.org/wiki/Statistics_Canada'}, {'title': 'South Asian Canadians', 'link': 'https://en.wikipedia.org/wiki/South_Asian_Canadians'}, {'title': 'Ethnic origins of people', 'link': 'https://en.wikipedia.org/wiki/Ethnic_origins_of_people_in_Canada'}], 'position': 7}, {'title': 'Canada Population 1950-2024 | MacroTrends', 'link': 'https://www.macrotrends.net/global-metrics/countries/CAN/canada/population', 'snippet': 'The current population of Canada in 2024 is 39,107,046, a 0.84% increase from 2023. The population of Canada in 2023 was 38,781,291, a 0.85% increase from 2022.', 'sitelinks': [{'title': 'Canada Urban Population...', 'link': 'https://www.macrotrends.net/global-metrics/countries/CAN/canada/urban-population'}, {'title': 'Canada Population Density...', 'link': 'https://www.macrotrends.net/global-metrics/countries/CAN/canada/population-density'}, {'title': 'Growth Rate', 'link': 'https://www.macrotrends.net/global-metrics/countries/CAN/canada/population-growth-rate'}], 'position': 8}, {'title': 'Canada - The World Factbook - CIA', 'link': 'https://www.cia.gov/the-world-factbook/countries/canada/', 'snippet': 'total: 35.34 million (2021 est.) percent of population: 93% (2021 est.) comparison ranking: total 28 · Broadband - fixed subscriptions. total: ...', 'date': 'Aug 7, 2024', 'sitelinks': [{'title': 'View Details', 'link': 'https://www.cia.gov/the-world-factbook/countries/canada/locator-map'}, {'title': 'View 49 photos', 'link': 'https://www.cia.gov/the-world-factbook/countries/canada/images'}, {'title': 'Country Summary', 'link': 'https://www.cia.gov/the-world-factbook/countries/canada/summaries'}, {'title': 'Travel Facts', 'link': 'https://www.cia.gov/the-world-factbook/countries/canada/travel-facts'}], 'position': 9}, {'title': \"Canada's population tops 41 million. Is this a rise before the fall?\", 'link': 'https://financialpost.com/news/economy/canada-population-topped-41-million-rise-before-fall', 'snippet': \"Canada's population surpassed 41 million in April. Here's what the latest numbers mean. Find out more.\", 'date': 'Jun 19, 2024', 'position': 10}], 'peopleAlsoAsk': [{'question': \"Where does 90% of Canada's population live?\", 'snippet': 'where do most canadians live? southern canada, 90% of people live within 150 miles of the US Canadian border. what are the 5 regions? what are the oceans bordering canada?', 'title': 'Canada Flashcards - Quizlet', 'link': 'https://quizlet.com/79072558/canada-flash-cards/'}, {'question': 'Why is the US more populated than Canada?', 'snippet': 'Even though Canada is a larger country, the United States has a population of 307,212,123 people compared to 33,487,208 people in Canada in 2010. The United States has 13.8 babies per 1000 people, while Canada has 10.3 babies per 1000 people. Therefore, the United States has a 25.3% higher birth rate than Canada.', 'title': \"Key Differences between Canada and the United States You Didn't Know\", 'link': 'https://valleyfairdental.com/key-differences-canada-united-states-didnt-know/'}, {'question': \"Is Canada's population bigger than California?\", 'snippet': 'Canada has a population of 38 million people. The only State that has a larger population than the entire population of Canada is California at 39 million.', 'title': 'Which state in the United States has a larger population than Canada ...', 'link': 'https://www.quora.com/Which-state-in-the-United-States-has-a-larger-population-than-Canada-Why-is-it-not-considered-a-separate-country'}, {'question': 'Which race has the largest population in Canada?', 'snippet': 'Demographics of Canada\\n\\nNationality\\nCanadian\\nMajor ethnic\\nWhite (69.8%)\\nMinor ethnic\\nSouth Asian (7.1%) Indigenous (5%) Chinese (4.7%) Black (4.3%) Filipino (2.6%) Arab (1.9%) Latin American (1.6%) Southeast Asian (1.1%) West Asian (1%) Korean (0.6%) Japanese (0.3%) Multiracial/Other, excluding Métis (3.2%)\\nLanguage\\n', 'title': 'Demographics of Canada - Wikipedia', 'link': 'https://en.wikipedia.org/wiki/Demographics_of_Canada'}], 'relatedSearches': [{'query': 'Population of USA'}, {'query': 'Population of Canada 2024'}, {'query': 'Population of Canada by province'}, {'query': 'Population of canada by race'}, {'query': 'Canada population by religion'}, {'query': 'Population density of Canada'}, {'query': 'Ontario population'}, {'query': 'Indian population in Canada'}]}\n",
      "{'tools': {'messages': [ToolMessage(content='{\"searchParameters\": {\"q\": \"population of Canada\", \"gl\": \"us\", \"hl\": \"en\", \"type\": \"search\", \"num\": 10, \"engine\": \"google\"}, \"answerBox\": {\"title\": \"Canada / Population\", \"answer\": \"38.93 million (2022)\", \"source\": \"World Bank\", \"sourceLink\": \"http://datatopics.worldbank.org/world-development-indicators\"}, \"organic\": [{\"title\": \"Canada Population (2024) - Worldometer\", \"link\": \"https://www.worldometers.info/world-population/canada-population/\", \"snippet\": \"The current population of Canada is 39,793,773 as of Monday, August 19, 2024, based on Worldometer\\'s elaboration of the latest United Nations data1. Canada 2024 ...\", \"position\": 1}, {\"title\": \"Canada\\'s population clock (real-time model)\", \"link\": \"https://www150.statcan.gc.ca/n1/pub/71-607-x/71-607-x2018005-eng.htm\", \"snippet\": \"This population clock models in real time changes to the size of the Canadian population and the provinces and territories. However, population ...\", \"date\": \"Jun 19, 2024\", \"position\": 2}, {\"title\": \"Population of Canada - Wikipedia\", \"link\": \"https://en.wikipedia.org/wiki/Population_of_Canada\", \"snippet\": \"Canada ranks 36th by population among countries of the world, comprising about 0.5% of the world\\'s total, with more than 40 million Canadians as of 2024.\", \"sitelinks\": [{\"title\": \"Historical population overview\", \"link\": \"https://en.wikipedia.org/wiki/Population_of_Canada#Historical_population_overview\"}, {\"title\": \"Components of population...\", \"link\": \"https://en.wikipedia.org/wiki/Population_of_Canada#Components_of_population_growth\"}, {\"title\": \"Population by years\", \"link\": \"https://en.wikipedia.org/wiki/Population_of_Canada#Population_by_years\"}], \"position\": 3}, {\"title\": \"Population and demography statistics\", \"link\": \"https://www.statcan.gc.ca/en/subjects-start/population_and_demography\", \"snippet\": \"Selected geographical area: ~ \\' \\' ~ Canada ~ \\'\\'; ?> ; Quarterly population estimate \\\\u00b7 41,012,563. 0.6% ; Proportion of people aged 0 to 14 years ...\", \"date\": \"Jun 24, 2024\", \"sitelinks\": [{\"title\": \"Canada\\'s population clock\", \"link\": \"https://www150.statcan.gc.ca/n1/pub/71-607-x/71-607-x2018005-eng.htm\"}, {\"title\": \"Canada\\'s population reaches\", \"link\": \"https://www.statcan.gc.ca/en/subjects-start/population_and_demography/40-million\"}, {\"title\": \"Interactive dashboard\", \"link\": \"https://www150.statcan.gc.ca/n1/pub/71-607-x/71-607-x2019036-eng.htm\"}], \"position\": 4}, {\"title\": \"Canada: total population 2019- 2029 - Statista\", \"link\": \"https://www.statista.com/statistics/263742/total-population-in-canada/\", \"snippet\": \"In 2022, the total population in Canada amounted to about 38.87 million inhabitants.\", \"date\": \"Jul 4, 2024\", \"position\": 5}, {\"title\": \"Population, total - Canada - World Bank Open Data\", \"link\": \"https://data.worldbank.org/indicator/SP.POP.TOTL?locations=CA\", \"snippet\": \"Population, total - Canada from The World Bank: Data.\", \"position\": 6}, {\"title\": \"Demographics of Canada - Wikipedia\", \"link\": \"https://en.wikipedia.org/wiki/Demographics_of_Canada\", \"snippet\": \"It is estimated that Canada\\'s population surpassed 40 million in 2023 and 41 million in 2024. Between 1990 and 2008, the population increased by 5.6 million, ...\", \"sitelinks\": [{\"title\": \"Statistics Canada\", \"link\": \"https://en.wikipedia.org/wiki/Statistics_Canada\"}, {\"title\": \"South Asian Canadians\", \"link\": \"https://en.wikipedia.org/wiki/South_Asian_Canadians\"}, {\"title\": \"Ethnic origins of people\", \"link\": \"https://en.wikipedia.org/wiki/Ethnic_origins_of_people_in_Canada\"}], \"position\": 7}, {\"title\": \"Canada Population 1950-2024 | MacroTrends\", \"link\": \"https://www.macrotrends.net/global-metrics/countries/CAN/canada/population\", \"snippet\": \"The current population of Canada in 2024 is 39,107,046, a 0.84% increase from 2023. The population of Canada in 2023 was 38,781,291, a 0.85% increase from 2022.\", \"sitelinks\": [{\"title\": \"Canada Urban Population...\", \"link\": \"https://www.macrotrends.net/global-metrics/countries/CAN/canada/urban-population\"}, {\"title\": \"Canada Population Density...\", \"link\": \"https://www.macrotrends.net/global-metrics/countries/CAN/canada/population-density\"}, {\"title\": \"Growth Rate\", \"link\": \"https://www.macrotrends.net/global-metrics/countries/CAN/canada/population-growth-rate\"}], \"position\": 8}, {\"title\": \"Canada - The World Factbook - CIA\", \"link\": \"https://www.cia.gov/the-world-factbook/countries/canada/\", \"snippet\": \"total: 35.34 million (2021 est.) percent of population: 93% (2021 est.) comparison ranking: total 28 \\\\u00b7 Broadband - fixed subscriptions. total: ...\", \"date\": \"Aug 7, 2024\", \"sitelinks\": [{\"title\": \"View Details\", \"link\": \"https://www.cia.gov/the-world-factbook/countries/canada/locator-map\"}, {\"title\": \"View 49 photos\", \"link\": \"https://www.cia.gov/the-world-factbook/countries/canada/images\"}, {\"title\": \"Country Summary\", \"link\": \"https://www.cia.gov/the-world-factbook/countries/canada/summaries\"}, {\"title\": \"Travel Facts\", \"link\": \"https://www.cia.gov/the-world-factbook/countries/canada/travel-facts\"}], \"position\": 9}, {\"title\": \"Canada\\'s population tops 41 million. Is this a rise before the fall?\", \"link\": \"https://financialpost.com/news/economy/canada-population-topped-41-million-rise-before-fall\", \"snippet\": \"Canada\\'s population surpassed 41 million in April. Here\\'s what the latest numbers mean. Find out more.\", \"date\": \"Jun 19, 2024\", \"position\": 10}], \"peopleAlsoAsk\": [{\"question\": \"Where does 90% of Canada\\'s population live?\", \"snippet\": \"where do most canadians live? southern canada, 90% of people live within 150 miles of the US Canadian border. what are the 5 regions? what are the oceans bordering canada?\", \"title\": \"Canada Flashcards - Quizlet\", \"link\": \"https://quizlet.com/79072558/canada-flash-cards/\"}, {\"question\": \"Why is the US more populated than Canada?\", \"snippet\": \"Even though Canada is a larger country, the United States has a population of 307,212,123 people compared to 33,487,208 people in Canada in 2010. The United States has 13.8 babies per 1000 people, while Canada has 10.3 babies per 1000 people. Therefore, the United States has a 25.3% higher birth rate than Canada.\", \"title\": \"Key Differences between Canada and the United States You Didn\\'t Know\", \"link\": \"https://valleyfairdental.com/key-differences-canada-united-states-didnt-know/\"}, {\"question\": \"Is Canada\\'s population bigger than California?\", \"snippet\": \"Canada has a population of 38 million people. The only State that has a larger population than the entire population of Canada is California at 39 million.\", \"title\": \"Which state in the United States has a larger population than Canada ...\", \"link\": \"https://www.quora.com/Which-state-in-the-United-States-has-a-larger-population-than-Canada-Why-is-it-not-considered-a-separate-country\"}, {\"question\": \"Which race has the largest population in Canada?\", \"snippet\": \"Demographics of Canada\\\\n\\\\nNationality\\\\nCanadian\\\\nMajor ethnic\\\\nWhite (69.8%)\\\\nMinor ethnic\\\\nSouth Asian (7.1%) Indigenous (5%) Chinese (4.7%) Black (4.3%) Filipino (2.6%) Arab (1.9%) Latin American (1.6%) Southeast Asian (1.1%) West Asian (1%) Korean (0.6%) Japanese (0.3%) Multiracial/Other, excluding M\\\\u00e9tis (3.2%)\\\\nLanguage\\\\n\", \"title\": \"Demographics of Canada - Wikipedia\", \"link\": \"https://en.wikipedia.org/wiki/Demographics_of_Canada\"}], \"relatedSearches\": [{\"query\": \"Population of USA\"}, {\"query\": \"Population of Canada 2024\"}, {\"query\": \"Population of Canada by province\"}, {\"query\": \"Population of canada by race\"}, {\"query\": \"Canada population by religion\"}, {\"query\": \"Population density of Canada\"}, {\"query\": \"Ontario population\"}, {\"query\": \"Indian population in Canada\"}]}', name='google_serper_search', tool_call_id='3424594e-39e9-49b5-92bc-286f888c3087')]}}\n",
      "------\n",
      "{'agent': {'messages': [AIMessage(content=\"According to the search results, the current population of Canada is approximately 41 million people. The population has been growing steadily over the years, with a growth rate of around 1% per year.\\n\\nHere are some additional facts and figures related to the population of Canada:\\n\\n* The majority of Canadians live in southern Canada, with 90% of the population residing within 150 miles of the US border.\\n* The population density of Canada is relatively low, with an average of about 4 people per square kilometer.\\n* The most populous province in Canada is Ontario, which accounts for around 40% of the country's population.\\n* The largest ethnic groups in Canada are White (69.8%), South Asian (7.1%), Indigenous (5%), Chinese (4.7%), and Black (4.3%).\\n* The majority of Canadians speak English as their first language, with French being the second most common language spoken.\\n\\nOverall, the population of Canada is expected to continue growing in the coming years, driven by a combination of natural increase (births minus deaths) and net migration.\", response_metadata={'model': 'llama3.1', 'created_at': '2024-08-20T15:25:39.8984458Z', 'message': {'role': 'assistant', 'content': \"According to the search results, the current population of Canada is approximately 41 million people. The population has been growing steadily over the years, with a growth rate of around 1% per year.\\n\\nHere are some additional facts and figures related to the population of Canada:\\n\\n* The majority of Canadians live in southern Canada, with 90% of the population residing within 150 miles of the US border.\\n* The population density of Canada is relatively low, with an average of about 4 people per square kilometer.\\n* The most populous province in Canada is Ontario, which accounts for around 40% of the country's population.\\n* The largest ethnic groups in Canada are White (69.8%), South Asian (7.1%), Indigenous (5%), Chinese (4.7%), and Black (4.3%).\\n* The majority of Canadians speak English as their first language, with French being the second most common language spoken.\\n\\nOverall, the population of Canada is expected to continue growing in the coming years, driven by a combination of natural increase (births minus deaths) and net migration.\"}, 'done_reason': 'stop', 'done': True, 'total_duration': 139080661400, 'load_duration': 25434100, 'prompt_eval_count': 1026, 'prompt_eval_duration': 94709022000, 'eval_count': 222, 'eval_duration': 44317522000}, id='run-7a5a016f-3a33-4dda-b281-61908d8b766f-0', usage_metadata={'input_tokens': 1026, 'output_tokens': 222, 'total_tokens': 1248})]}}\n",
      "------\n"
     ]
    }
   ],
   "source": [
    "from langchain_core.messages import HumanMessage\n",
    "from langgraph.prebuilt import create_react_agent\n",
    "from langgraph.checkpoint.memory import MemorySaver # an in-memory checkpointer\n",
    "from langchain.agents import AgentType, initialize_agent\n",
    "from langchain_ollama import ChatOllama  # Assuming this is the correct import for the language model\n",
    "\n",
    "# Check if SqliteSaver is a subclass of BaseCheckpointSaver\n",
    "assert issubclass(SqliteSaver, BaseCheckpointSaver), \"SqliteSaver should be a subclass of BaseCheckpointSaver\"\n",
    "\n",
    "# Memorize in RAM\n",
    "memory = MemorySaver()\n",
    "\n",
    "# Initialize the language model\n",
    "llm = ChatOllama(\n",
    "    model=\"llama3.1\",\n",
    "    temperature=0,\n",
    ")\n",
    "\n",
    "# Define the model and tools\n",
    "model = llm\n",
    "search = google_serper_search  # Ensure this is defined or imported\n",
    "tools = [search]\n",
    "\n",
    "# Create the agent executor\n",
    "agent_executor = create_react_agent(model, tools, checkpointer=memory)\n",
    "agent_executor = create_react_agent(model, tools)\n",
    "\n",
    "# Use the agent\n",
    "config = {\"Configurable\": {\"thread_id\": \"1\"}}\n",
    "for chunk in agent_executor.stream(\n",
    "    {\"messages\": [HumanMessage(content=\"How many people live in Canada?\")]}, config):\n",
    "    print(chunk)\n",
    "    print(\"------\")"
   ]
  },
  {
   "cell_type": "code",
   "execution_count": 59,
   "id": "03e672c2-e23e-49af-9135-071ecab5ed50",
   "metadata": {},
   "outputs": [
    {
     "name": "stdout",
     "output_type": "stream",
     "text": [
      "{'agent': {'messages': [AIMessage(content='', response_metadata={'model': 'llama3.1', 'created_at': '2024-08-20T15:16:40.1755429Z', 'message': {'role': 'assistant', 'content': '', 'tool_calls': [{'function': {'name': 'google_serper_search', 'arguments': {'query': 'Toronto weather today'}}}]}, 'done_reason': 'stop', 'done': True, 'total_duration': 18962070600, 'load_duration': 19200800, 'prompt_eval_count': 162, 'prompt_eval_duration': 15042799000, 'eval_count': 21, 'eval_duration': 3898395000}, id='run-d9b1aa3e-f7d1-45e0-bb92-0f0c7f17387b-0', tool_calls=[{'name': 'google_serper_search', 'args': {'query': 'Toronto weather today'}, 'id': 'c322d7ba-0f70-4f3b-a537-17903c31c54e', 'type': 'tool_call'}], usage_metadata={'input_tokens': 162, 'output_tokens': 21, 'total_tokens': 183})]}}\n",
      "----------\n",
      "{'searchParameters': {'q': 'Toronto weather today', 'gl': 'us', 'hl': 'en', 'type': 'search', 'num': 10, 'engine': 'google'}, 'answerBox': {'title': 'Toronto, ON, Canada / Weather', 'answer': '62°F', 'source': 'More on weather.com', 'sourceLink': 'https://www.weather.com/wx/today/?lat=43.65&lon=-79.38&locale=en_US&par=google'}, 'organic': [{'title': '10-Day Weather Forecast for Toronto, Ontario, Canada', 'link': 'https://weather.com/weather/tenday/l/62e0efebee1ac0e8fa9b21fd17d57a6a0001753ab6be8a4874bb78bbb52eda02', 'snippet': '10 Day Weather-Toronto, Ontario, Canada. As of 10:30 pm EDT. Tonight. --/55°. 3%. Mon 19 | Night. 55°. 3%. N 13 mph. Mostly clear. Low near 55F.', 'position': 1}, {'title': 'Toronto, ON - 7 Day Forecast - Environment Canada', 'link': 'https://weather.gc.ca/city/pages/on-143_metric_e.html', 'snippet': 'Overcast. Wind north 30 km/h. High 21. UV index 4 or moderate. Night:Partly cloudy. Wind north 20 km/h becoming light in the evening. Low 11.', 'sitelinks': [{'title': 'Hourly Forecast', 'link': 'https://weather.gc.ca/forecast/hourly/on-143_metric_e.html'}, {'title': 'Past 24 hours', 'link': 'https://weather.gc.ca/past_conditions/index_e.html?station=yyz'}, {'title': 'Air Quality', 'link': 'https://weather.gc.ca/airquality/pages/onaq-018_e.html'}, {'title': 'Almanac Averages and...', 'link': 'https://climate.weather.gc.ca/climate_data/almanac_e.html?StationID=51459'}], 'position': 2}, {'title': '10-Day Weather Forecast for Midtown, Ontario, Canada', 'link': 'https://weather.com/weather/tenday/l/Midtown+Ontario+Canada?canonicalCityId=4d9dd70a933d0d5d4c894283242ddf650e6b0903fedd76d42e55803cb628e1e7', 'snippet': 'Mon 19 | Night ... Clear skies. Low 53F. Winds N at 10 to 15 mph. Humidity71%.', 'position': 3}, {'title': 'Toronto, ON Current Weather', 'link': 'https://www.theweathernetwork.com/en/city/ca/ontario/toronto/current', 'snippet': 'Toronto, ON Current Weather. Toronto, ON. Updated 14 minutes ago. 15. °C. Clear. Feels 13. H: 21° L: 13°. Hourly. Full 72 hours · 11am. Mainly sunny.', 'sitelinks': [{'title': 'Hourly Forecast', 'link': 'https://www.theweathernetwork.com/en/city/ca/ontario/toronto/hourly'}, {'title': '7 Days', 'link': 'https://www.theweathernetwork.com/en/city/ca/ontario/toronto/7-days'}, {'title': '14 Days', 'link': 'https://www.theweathernetwork.com/en/city/ca/ontario/toronto/14-days'}, {'title': 'Toronto Islands', 'link': 'https://www.theweathernetwork.com/en/city/ca/ontario/toronto-islands/current'}], 'position': 4}, {'title': 'Toronto, Ontario, Canada Weather Forecast - AccuWeather', 'link': 'https://www.accuweather.com/en/ca/toronto/m5h/weather-forecast/55488', 'snippet': 'Hourly Weather · 1 PM 66°. rain drop 0% · 2 PM 67°. rain drop 0% · 3 PM 67°. rain drop 0% · 4 PM 68°. rain drop 0% · 5 PM 67°. rain drop 0% · 6 PM 66°. rain ...', 'sitelinks': [{'title': 'Hourly', 'link': 'https://www.accuweather.com/en/ca/toronto/m5h/hourly-weather-forecast/55488'}, {'title': 'Daily', 'link': 'https://www.accuweather.com/en/ca/toronto/m5h/daily-weather-forecast/55488'}, {'title': 'Current Weather', 'link': 'https://www.accuweather.com/en/ca/toronto/m5h/current-weather/55488'}, {'title': 'Radar', 'link': 'https://www.accuweather.com/en/ca/toronto/m5h/weather-radar/55488'}], 'position': 5}, {'title': '10-Day Weather Forecast for Downtown Toronto, Ontario, Canada', 'link': 'https://weather.com/weather/tenday/l/CAXX0504:1:CA', 'snippet': '10 Day Weather-Downtown Toronto, Ontario, Canada. As of 8:36 pm EDT. Tonight. --/55°. 3%. Mon 19 | Night. 55°. 3%. N 14 mph. Some clouds. Low around 55F.', 'position': 6}, {'title': 'Toronto, ON Hourly Forecast - The Weather Network', 'link': 'https://www.theweathernetwork.com/en/city/ca/ontario/toronto/hourly', 'snippet': 'Toronto, ON Hourly Forecast. Toronto, ON. Updated 20 minutes ago. Temperature. 17°. Tue. 12pm. 17°. Tue. 1pm. 19°. Tue. 2pm. 19°. Tue. 3pm. 20°. Tue.', 'position': 7}, {'title': 'Weather Forecast and Conditions for Toronto, Ontario, Canada', 'link': 'https://weather.com/weather/today/l/62e0efebee1ac0e8fa9b21fd17d57a6a0001753ab6be8a4874bb78bbb52eda02', 'snippet': 'Toronto, Ontario, Canada Forecast · Morning. 59°. -- · Afternoon. 63°. -- · Evening. 61°. Chance of Rain1% · Overnight. 57°. Chance of Rain2% ...', 'position': 8}, {'title': 'CTV News Toronto | Hourly Weather', 'link': 'https://toronto.ctvnews.ca/weather', 'snippet': 'Weather Warning in Effect · 1 AM. 17°. 15% · 2 AM. 16°. 5% · 3 AM. 16°. 25% · 4 AM. 16°. 15% · 5 AM. 16°. 5% · 6 AM. 16°. 15% · 7 AM. 15°. 15% · 8 AM. 16°. 5%.', 'position': 9}, {'title': '10-day weather forecast for Toronto, Ontario', 'link': 'https://weather.com/en-CA/weather/tenday/l/62e0efebee1ac0e8fa9b21fd17d57a6a0001753ab6be8a4874bb78bbb52eda02', 'snippet': 'Be prepared with the most accurate 10-day forecast for Toronto, Ontario with highs, lows, chance of precipitation from The Weather Channel and Weather.com.', 'position': 10}], 'peopleAlsoAsk': [{'question': 'Is it cold or hot in Toronto now?', 'snippet': 'Current Conditions - Toronto, ON Thursday 24° 16° Partly cloudy. Highs 23 to 25C and lows 15 to 17C.', 'title': 'Weather Conditions & Predictions - Toronto - Global News', 'link': 'https://globalnews.ca/toronto/weather/CAXX0504'}, {'question': 'What is the coldest month in Toronto?', 'snippet': 'The hottest month of the year in Toronto is July, with an average high of 77°F and low of 63°F. The cold season lasts for 3.4 months, from December 2 to March 15, with an average daily high temperature below 39°F. The coldest month of the year in Toronto is January, with an average low of 18°F and high of 30°F.', 'title': 'Climate and Average Weather Year Round in Toronto Ontario, Canada', 'link': 'https://weatherspark.com/y/19863/Average-Weather-in-Toronto-Canada'}, {'question': 'Is Toronto cold all the time?', 'snippet': \"Toronto weather is quite inconsistent and only thing that is consistent about Toronto climate is 'changes'. It tends to be warm and humid in summer, freezing cold in winter, mild and pleasant in spring and fall.\", 'title': 'Toronto Weather', 'link': 'https://www.toronto-travel-guide.com/toronto-weather/'}, {'question': 'Is Toronto weather like New York?', 'snippet': \"They're actually in two different climate zones, even though they're only a few hundred miles apart. Toronto's climate is “hot summer humid continental” with warm, humid summers and cold winters. New York's climate is “humid subtropical” with chilly damp winters and hot humid summers.\", 'title': 'How does weather in NY and Toronto compare? - Quora', 'link': 'https://www.quora.com/How-does-weather-in-NY-and-Toronto-compare'}], 'relatedSearches': [{'query': 'Weather in Toronto 10 days'}, {'query': 'Weather in Toronto tomorrow'}, {'query': 'Toronto weather 14 day'}, {'query': 'Toronto weather 7 days'}, {'query': 'Toronto weather 30 days'}, {'query': 'Toronto weather hourly'}, {'query': 'Montreal weather'}, {'query': 'Weather network Toronto'}]}\n",
      "{'tools': {'messages': [ToolMessage(content='{\"searchParameters\": {\"q\": \"Toronto weather today\", \"gl\": \"us\", \"hl\": \"en\", \"type\": \"search\", \"num\": 10, \"engine\": \"google\"}, \"answerBox\": {\"title\": \"Toronto, ON, Canada / Weather\", \"answer\": \"62\\\\u00b0F\", \"source\": \"More on weather.com\", \"sourceLink\": \"https://www.weather.com/wx/today/?lat=43.65&lon=-79.38&locale=en_US&par=google\"}, \"organic\": [{\"title\": \"10-Day Weather Forecast for Toronto, Ontario, Canada\", \"link\": \"https://weather.com/weather/tenday/l/62e0efebee1ac0e8fa9b21fd17d57a6a0001753ab6be8a4874bb78bbb52eda02\", \"snippet\": \"10 Day Weather-Toronto, Ontario, Canada. As of 10:30 pm EDT. Tonight. --/55\\\\u00b0. 3%. Mon 19 | Night. 55\\\\u00b0. 3%. N 13 mph. Mostly clear. Low near 55F.\", \"position\": 1}, {\"title\": \"Toronto, ON - 7 Day Forecast - Environment Canada\", \"link\": \"https://weather.gc.ca/city/pages/on-143_metric_e.html\", \"snippet\": \"Overcast. Wind north 30 km/h. High 21. UV index 4 or moderate. Night:Partly cloudy. Wind north 20 km/h becoming light in the evening. Low 11.\", \"sitelinks\": [{\"title\": \"Hourly Forecast\", \"link\": \"https://weather.gc.ca/forecast/hourly/on-143_metric_e.html\"}, {\"title\": \"Past 24 hours\", \"link\": \"https://weather.gc.ca/past_conditions/index_e.html?station=yyz\"}, {\"title\": \"Air Quality\", \"link\": \"https://weather.gc.ca/airquality/pages/onaq-018_e.html\"}, {\"title\": \"Almanac Averages and...\", \"link\": \"https://climate.weather.gc.ca/climate_data/almanac_e.html?StationID=51459\"}], \"position\": 2}, {\"title\": \"10-Day Weather Forecast for Midtown, Ontario, Canada\", \"link\": \"https://weather.com/weather/tenday/l/Midtown+Ontario+Canada?canonicalCityId=4d9dd70a933d0d5d4c894283242ddf650e6b0903fedd76d42e55803cb628e1e7\", \"snippet\": \"Mon 19 | Night ... Clear skies. Low 53F. Winds N at 10 to 15 mph. Humidity71%.\", \"position\": 3}, {\"title\": \"Toronto, ON Current Weather\", \"link\": \"https://www.theweathernetwork.com/en/city/ca/ontario/toronto/current\", \"snippet\": \"Toronto, ON Current Weather. Toronto, ON. Updated 14 minutes ago. 15. \\\\u00b0C. Clear. Feels 13. H: 21\\\\u00b0 L: 13\\\\u00b0. Hourly. Full 72 hours \\\\u00b7 11am. Mainly sunny.\", \"sitelinks\": [{\"title\": \"Hourly Forecast\", \"link\": \"https://www.theweathernetwork.com/en/city/ca/ontario/toronto/hourly\"}, {\"title\": \"7 Days\", \"link\": \"https://www.theweathernetwork.com/en/city/ca/ontario/toronto/7-days\"}, {\"title\": \"14 Days\", \"link\": \"https://www.theweathernetwork.com/en/city/ca/ontario/toronto/14-days\"}, {\"title\": \"Toronto Islands\", \"link\": \"https://www.theweathernetwork.com/en/city/ca/ontario/toronto-islands/current\"}], \"position\": 4}, {\"title\": \"Toronto, Ontario, Canada Weather Forecast - AccuWeather\", \"link\": \"https://www.accuweather.com/en/ca/toronto/m5h/weather-forecast/55488\", \"snippet\": \"Hourly Weather \\\\u00b7 1 PM 66\\\\u00b0. rain drop 0% \\\\u00b7 2 PM 67\\\\u00b0. rain drop 0% \\\\u00b7 3 PM 67\\\\u00b0. rain drop 0% \\\\u00b7 4 PM 68\\\\u00b0. rain drop 0% \\\\u00b7 5 PM 67\\\\u00b0. rain drop 0% \\\\u00b7 6 PM 66\\\\u00b0. rain ...\", \"sitelinks\": [{\"title\": \"Hourly\", \"link\": \"https://www.accuweather.com/en/ca/toronto/m5h/hourly-weather-forecast/55488\"}, {\"title\": \"Daily\", \"link\": \"https://www.accuweather.com/en/ca/toronto/m5h/daily-weather-forecast/55488\"}, {\"title\": \"Current Weather\", \"link\": \"https://www.accuweather.com/en/ca/toronto/m5h/current-weather/55488\"}, {\"title\": \"Radar\", \"link\": \"https://www.accuweather.com/en/ca/toronto/m5h/weather-radar/55488\"}], \"position\": 5}, {\"title\": \"10-Day Weather Forecast for Downtown Toronto, Ontario, Canada\", \"link\": \"https://weather.com/weather/tenday/l/CAXX0504:1:CA\", \"snippet\": \"10 Day Weather-Downtown Toronto, Ontario, Canada. As of 8:36 pm EDT. Tonight. --/55\\\\u00b0. 3%. Mon 19 | Night. 55\\\\u00b0. 3%. N 14 mph. Some clouds. Low around 55F.\", \"position\": 6}, {\"title\": \"Toronto, ON Hourly Forecast - The Weather Network\", \"link\": \"https://www.theweathernetwork.com/en/city/ca/ontario/toronto/hourly\", \"snippet\": \"Toronto, ON Hourly Forecast. Toronto, ON. Updated 20 minutes ago. Temperature. 17\\\\u00b0. Tue. 12pm. 17\\\\u00b0. Tue. 1pm. 19\\\\u00b0. Tue. 2pm. 19\\\\u00b0. Tue. 3pm. 20\\\\u00b0. Tue.\", \"position\": 7}, {\"title\": \"Weather Forecast and Conditions for Toronto, Ontario, Canada\", \"link\": \"https://weather.com/weather/today/l/62e0efebee1ac0e8fa9b21fd17d57a6a0001753ab6be8a4874bb78bbb52eda02\", \"snippet\": \"Toronto, Ontario, Canada Forecast \\\\u00b7 Morning. 59\\\\u00b0. -- \\\\u00b7 Afternoon. 63\\\\u00b0. -- \\\\u00b7 Evening. 61\\\\u00b0. Chance of Rain1% \\\\u00b7 Overnight. 57\\\\u00b0. Chance of Rain2% ...\", \"position\": 8}, {\"title\": \"CTV News Toronto | Hourly Weather\", \"link\": \"https://toronto.ctvnews.ca/weather\", \"snippet\": \"Weather Warning in Effect \\\\u00b7 1 AM. 17\\\\u00b0. 15% \\\\u00b7 2 AM. 16\\\\u00b0. 5% \\\\u00b7 3 AM. 16\\\\u00b0. 25% \\\\u00b7 4 AM. 16\\\\u00b0. 15% \\\\u00b7 5 AM. 16\\\\u00b0. 5% \\\\u00b7 6 AM. 16\\\\u00b0. 15% \\\\u00b7 7 AM. 15\\\\u00b0. 15% \\\\u00b7 8 AM. 16\\\\u00b0. 5%.\", \"position\": 9}, {\"title\": \"10-day weather forecast for Toronto, Ontario\", \"link\": \"https://weather.com/en-CA/weather/tenday/l/62e0efebee1ac0e8fa9b21fd17d57a6a0001753ab6be8a4874bb78bbb52eda02\", \"snippet\": \"Be prepared with the most accurate 10-day forecast for Toronto, Ontario with highs, lows, chance of precipitation from The Weather Channel and Weather.com.\", \"position\": 10}], \"peopleAlsoAsk\": [{\"question\": \"Is it cold or hot in Toronto now?\", \"snippet\": \"Current Conditions - Toronto, ON Thursday 24\\\\u00b0 16\\\\u00b0 Partly cloudy. Highs 23 to 25C and lows 15 to 17C.\", \"title\": \"Weather Conditions & Predictions - Toronto - Global News\", \"link\": \"https://globalnews.ca/toronto/weather/CAXX0504\"}, {\"question\": \"What is the coldest month in Toronto?\", \"snippet\": \"The hottest month of the year in Toronto is July, with an average high of 77\\\\u00b0F and low of 63\\\\u00b0F. The cold season lasts for 3.4 months, from December 2 to March 15, with an average daily high temperature below 39\\\\u00b0F. The coldest month of the year in Toronto is January, with an average low of 18\\\\u00b0F and high of 30\\\\u00b0F.\", \"title\": \"Climate and Average Weather Year Round in Toronto Ontario, Canada\", \"link\": \"https://weatherspark.com/y/19863/Average-Weather-in-Toronto-Canada\"}, {\"question\": \"Is Toronto cold all the time?\", \"snippet\": \"Toronto weather is quite inconsistent and only thing that is consistent about Toronto climate is \\'changes\\'. It tends to be warm and humid in summer, freezing cold in winter, mild and pleasant in spring and fall.\", \"title\": \"Toronto Weather\", \"link\": \"https://www.toronto-travel-guide.com/toronto-weather/\"}, {\"question\": \"Is Toronto weather like New York?\", \"snippet\": \"They\\'re actually in two different climate zones, even though they\\'re only a few hundred miles apart. Toronto\\'s climate is \\\\u201chot summer humid continental\\\\u201d with warm, humid summers and cold winters. New York\\'s climate is \\\\u201chumid subtropical\\\\u201d with chilly damp winters and hot humid summers.\", \"title\": \"How does weather in NY and Toronto compare? - Quora\", \"link\": \"https://www.quora.com/How-does-weather-in-NY-and-Toronto-compare\"}], \"relatedSearches\": [{\"query\": \"Weather in Toronto 10 days\"}, {\"query\": \"Weather in Toronto tomorrow\"}, {\"query\": \"Toronto weather 14 day\"}, {\"query\": \"Toronto weather 7 days\"}, {\"query\": \"Toronto weather 30 days\"}, {\"query\": \"Toronto weather hourly\"}, {\"query\": \"Montreal weather\"}, {\"query\": \"Weather network Toronto\"}]}', name='google_serper_search', tool_call_id='c322d7ba-0f70-4f3b-a537-17903c31c54e')]}}\n",
      "----------\n",
      "{'agent': {'messages': [AIMessage(content='The user is looking for information about the current and future weather conditions in Toronto, Ontario, Canada. The top result from Google is a news article from CTV News Toronto titled \"Hourly Weather\" which provides detailed hourly forecasts for the next 24 hours. The second result is a weather forecast from The Weather Channel, which provides a 10-day forecast with highs, lows, and chance of precipitation.\\n\\nThe user also has questions about the current temperature in Toronto, as indicated by the search query \"Is it cold or hot in Toronto now?\" The top result from Google is an article from Global News titled \"Weather Conditions & Predictions - Toronto\" which provides information on the current conditions in Toronto, including a temperature of 24°C and partly cloudy skies.\\n\\nThe user also wants to know about the coldest month in Toronto, as indicated by the search query \"What is the coldest month in Toronto?\" The top result from Google is an article from Weatherspark titled \"Climate and Average Weather Year Round in Toronto Ontario, Canada\" which provides information on the average temperature and precipitation in Toronto throughout the year.\\n\\nFinally, the user wants to know if Toronto\\'s weather is similar to New York City\\'s, as indicated by the search query \"Is Toronto weather like New York?\" The top result from Google is an answer from Quora titled \"How does weather in NY and Toronto compare?\" which provides information on the differences between the two cities\\' climates.\\n\\nOverall, the user is looking for information about the current and future weather conditions in Toronto, as well as general information about the city\\'s climate.', response_metadata={'model': 'llama3.1', 'created_at': '2024-08-20T15:19:19.7472139Z', 'message': {'role': 'assistant', 'content': 'The user is looking for information about the current and future weather conditions in Toronto, Ontario, Canada. The top result from Google is a news article from CTV News Toronto titled \"Hourly Weather\" which provides detailed hourly forecasts for the next 24 hours. The second result is a weather forecast from The Weather Channel, which provides a 10-day forecast with highs, lows, and chance of precipitation.\\n\\nThe user also has questions about the current temperature in Toronto, as indicated by the search query \"Is it cold or hot in Toronto now?\" The top result from Google is an article from Global News titled \"Weather Conditions & Predictions - Toronto\" which provides information on the current conditions in Toronto, including a temperature of 24°C and partly cloudy skies.\\n\\nThe user also wants to know about the coldest month in Toronto, as indicated by the search query \"What is the coldest month in Toronto?\" The top result from Google is an article from Weatherspark titled \"Climate and Average Weather Year Round in Toronto Ontario, Canada\" which provides information on the average temperature and precipitation in Toronto throughout the year.\\n\\nFinally, the user wants to know if Toronto\\'s weather is similar to New York City\\'s, as indicated by the search query \"Is Toronto weather like New York?\" The top result from Google is an answer from Quora titled \"How does weather in NY and Toronto compare?\" which provides information on the differences between the two cities\\' climates.\\n\\nOverall, the user is looking for information about the current and future weather conditions in Toronto, as well as general information about the city\\'s climate.'}, 'done_reason': 'stop', 'done': True, 'total_duration': 158129365200, 'load_duration': 16651800, 'prompt_eval_count': 1026, 'prompt_eval_duration': 95712887000, 'eval_count': 321, 'eval_duration': 62357399000}, id='run-1c8f162f-d95e-4589-ad74-476f3410ad32-0', usage_metadata={'input_tokens': 1026, 'output_tokens': 321, 'total_tokens': 1347})]}}\n",
      "----------\n"
     ]
    }
   ],
   "source": [
    "for chunk in agent_executor.stream(\n",
    "    {\"messages\": [HumanMessage(content=\"How's weather today in Toronto\")]}, config\n",
    "):\n",
    "    print(chunk)\n",
    "    print(\"----------\")"
   ]
  }
 ],
 "metadata": {
  "kernelspec": {
   "display_name": "Python 3 (ipykernel)",
   "language": "python",
   "name": "python3"
  },
  "language_info": {
   "codemirror_mode": {
    "name": "ipython",
    "version": 3
   },
   "file_extension": ".py",
   "mimetype": "text/x-python",
   "name": "python",
   "nbconvert_exporter": "python",
   "pygments_lexer": "ipython3",
   "version": "3.11.7"
  }
 },
 "nbformat": 4,
 "nbformat_minor": 5
}
